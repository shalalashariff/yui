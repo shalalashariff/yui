{
 "cells": [
  {
   "cell_type": "code",
   "execution_count": 28,
   "id": "288337a9",
   "metadata": {},
   "outputs": [],
   "source": [
    "import numpy as np"
   ]
  },
  {
   "cell_type": "code",
   "execution_count": 48,
   "id": "f4f78d45",
   "metadata": {
    "scrolled": true
   },
   "outputs": [],
   "source": [
    "h101=np.array([\"muxtariyyeti\",\"diyorduq\",\"soldan\",\"və\",\"sağdan\",\"hər\",\"növ\",\"hücuma\",\"məruz\",\"qalırdıq\"])\n",
    "h202=np.array([\"muxtariyyeti\",\"diyorduq\",\"soldan\",\"və\",\"sağdan\",\"hər\",\"növ\",\"hücuma\",\"məruz\",\"qalırdıq\"])"
   ]
  },
  {
   "cell_type": "code",
   "execution_count": 49,
   "id": "d912599f",
   "metadata": {},
   "outputs": [],
   "source": [
    "h203=np.array([])\n",
    "for i in h202:\n",
    "    h203=np.append(h203,i.upper())\n",
    "    "
   ]
  },
  {
   "cell_type": "code",
   "execution_count": 55,
   "id": "ac093a8f",
   "metadata": {},
   "outputs": [],
   "source": [
    "h202=h203.copy()"
   ]
  },
  {
   "cell_type": "code",
   "execution_count": 56,
   "id": "12eff535",
   "metadata": {},
   "outputs": [
    {
     "data": {
      "text/plain": [
       "array(['MUXTARIYYETI', 'DIYORDUQ', 'SOLDAN', 'VƏ', 'SAĞDAN', 'HƏR', 'NÖV',\n",
       "       'HÜCUMA', 'MƏRUZ', 'QALIRDIQ'], dtype='<U32')"
      ]
     },
     "execution_count": 56,
     "metadata": {},
     "output_type": "execute_result"
    }
   ],
   "source": [
    "h202"
   ]
  },
  {
   "cell_type": "code",
   "execution_count": 57,
   "id": "f53a0c58",
   "metadata": {},
   "outputs": [
    {
     "name": "stdout",
     "output_type": "stream",
     "text": [
      "['muxtariyyeti' 'diyorduq' 'SOLDAN' 'və' 'SAĞDAN' 'hər' 'NÖV' 'hücuma'\n",
      " 'MƏRUZ' 'qalırdıq']\n"
     ]
    }
   ],
   "source": [
    "for a in range(len(h202)):\n",
    "    if a%2==0:\n",
    "        if a==0:\n",
    "            continue\n",
    "        h101[a]=h202[a]\n",
    "print(h101)"
   ]
  },
  {
   "cell_type": "code",
   "execution_count": 38,
   "id": "27eaed64",
   "metadata": {},
   "outputs": [
    {
     "data": {
      "text/plain": [
       "range(0, 10)"
      ]
     },
     "execution_count": 38,
     "metadata": {},
     "output_type": "execute_result"
    }
   ],
   "source": [
    "range(len(h202))"
   ]
  },
  {
   "cell_type": "code",
   "execution_count": null,
   "id": "b9462198",
   "metadata": {},
   "outputs": [],
   "source": []
  }
 ],
 "metadata": {
  "kernelspec": {
   "display_name": "Python 3 (ipykernel)",
   "language": "python",
   "name": "python3"
  },
  "language_info": {
   "codemirror_mode": {
    "name": "ipython",
    "version": 3
   },
   "file_extension": ".py",
   "mimetype": "text/x-python",
   "name": "python",
   "nbconvert_exporter": "python",
   "pygments_lexer": "ipython3",
   "version": "3.9.7"
  }
 },
 "nbformat": 4,
 "nbformat_minor": 5
}
